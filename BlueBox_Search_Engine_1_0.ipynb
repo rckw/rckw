{
  "nbformat": 4,
  "nbformat_minor": 0,
  "metadata": {
    "colab": {
      "name": "BlueBox Search Engine 1.0.ipynb",
      "provenance": [],
      "collapsed_sections": [],
      "toc_visible": true,
      "authorship_tag": "ABX9TyNV8R/mk7N7gBSk8//i/8FW",
      "include_colab_link": true
    },
    "kernelspec": {
      "name": "python3",
      "display_name": "Python 3"
    },
    "language_info": {
      "name": "python"
    }
  },
  "cells": [
    {
      "cell_type": "markdown",
      "metadata": {
        "id": "view-in-github",
        "colab_type": "text"
      },
      "source": [
        "<a href=\"https://colab.research.google.com/github/rckw/rckw/blob/main/BlueBox_Search_Engine_1_0.ipynb\" target=\"_parent\"><img src=\"https://colab.research.google.com/assets/colab-badge.svg\" alt=\"Open In Colab\"/></a>"
      ]
    },
    {
      "cell_type": "markdown",
      "source": [
        "# BlueBox Search Engine"
      ],
      "metadata": {
        "id": "xV1q_1OnUlkI"
      }
    },
    {
      "cell_type": "markdown",
      "source": [
        "# 1.  Introduction\n",
        "\n",
        "To define\n",
        "\n",
        "\n",
        "\n",
        "```\n",
        "# https://towardsdatascience.com/10-tips-for-a-better-google-colab-experience-33f8fe721b82#34af\n",
        "```\n",
        "\n"
      ],
      "metadata": {
        "id": "_Y7EuqfoWNTu"
      }
    },
    {
      "cell_type": "markdown",
      "source": [
        "********************************************************************************"
      ],
      "metadata": {
        "id": "6JisgXuMc-su"
      }
    },
    {
      "cell_type": "markdown",
      "source": [
        "# 2.  Imports & drive mount\n",
        "\n",
        "Import the required packages/modules\n",
        "\n",
        "*Following code should be executed only once.*"
      ],
      "metadata": {
        "id": "poT2YO5-UubB"
      }
    },
    {
      "cell_type": "code",
      "execution_count": 2,
      "metadata": {
        "colab": {
          "base_uri": "https://localhost:8080/"
        },
        "id": "g9HjazSyUbMO",
        "outputId": "3dcdb341-a2ac-4c9a-8d6a-730c7e212e1d"
      },
      "outputs": [
        {
          "output_type": "stream",
          "name": "stdout",
          "text": [
            "Looking in indexes: https://pypi.org/simple, https://us-python.pkg.dev/colab-wheels/public/simple/\n",
            "Collecting colorama\n",
            "  Downloading colorama-0.4.5-py2.py3-none-any.whl (16 kB)\n",
            "Installing collected packages: colorama\n",
            "Successfully installed colorama-0.4.5\n"
          ]
        }
      ],
      "source": [
        "from google.colab import files\n",
        "from google.colab import drive\n",
        "from google.colab.data_table import DataTable\n",
        "import pandas as pd\n",
        "import numpy as np\n",
        "import matplotlib.pyplot as plt\n",
        "from IPython.display import display\n",
        "!pip install colorama\n",
        "from colorama import Fore"
      ]
    },
    {
      "cell_type": "markdown",
      "source": [
        "Mount google drive"
      ],
      "metadata": {
        "id": "EDBLET4cbRox"
      }
    },
    {
      "cell_type": "code",
      "source": [
        "drive.mount('gdrive')"
      ],
      "metadata": {
        "colab": {
          "base_uri": "https://localhost:8080/"
        },
        "id": "TFIhqVDGbU0b",
        "outputId": "a4404014-deef-4987-8df1-bc4eac1c9f50"
      },
      "execution_count": 3,
      "outputs": [
        {
          "output_type": "stream",
          "name": "stdout",
          "text": [
            "Mounted at gdrive\n"
          ]
        }
      ]
    },
    {
      "cell_type": "markdown",
      "source": [
        "********************************************************************************"
      ],
      "metadata": {
        "id": "KvQdb4qYbZpD"
      }
    },
    {
      "cell_type": "markdown",
      "source": [
        "# 3.  File upload\n",
        "\n",
        "Files are temporary uploaded to the /content directory."
      ],
      "metadata": {
        "id": "9WZdaXMObfqW"
      }
    },
    {
      "cell_type": "code",
      "source": [
        "uploaded = files.upload()\n",
        "# uploaded  # Uncomment if you want to see the file content"
      ],
      "metadata": {
        "id": "xupqnMw5beeQ"
      },
      "execution_count": null,
      "outputs": []
    },
    {
      "cell_type": "markdown",
      "source": [
        "List the /content directory"
      ],
      "metadata": {
        "id": "HxQQgHkdcU96"
      }
    },
    {
      "cell_type": "code",
      "source": [
        "print(Fore.BLUE + \"/Content\" + Fore.RESET)\n",
        "!ls /content"
      ],
      "metadata": {
        "colab": {
          "base_uri": "https://localhost:8080/"
        },
        "id": "_7HRri4Iccnq",
        "outputId": "d62aabbb-f733-49e5-be07-b7a24ed1f7dc"
      },
      "execution_count": 4,
      "outputs": [
        {
          "output_type": "stream",
          "name": "stdout",
          "text": [
            "\u001b[34m/Content\u001b[39m\n",
            "gdrive\tsample_data\n"
          ]
        }
      ]
    },
    {
      "cell_type": "markdown",
      "source": [
        "********************************************************************************"
      ],
      "metadata": {
        "id": "7MsX6wP2c7pT"
      }
    },
    {
      "cell_type": "markdown",
      "source": [
        "# 4.  Variables"
      ],
      "metadata": {
        "id": "7eT8_vAKcrrn"
      }
    },
    {
      "cell_type": "code",
      "source": [
        "board_list = [\"absd\", \"cbsd\", \"cbss\", \"rbsd\"]\n",
        "\n",
        "bool_dict = {\n",
        "    \"True\": True,\n",
        "    \"False\": False,\n",
        "    \"true\": True,\n",
        "    \"false\": False,\n",
        "    \"1\": True,\n",
        "    \"0\": False\n",
        "}"
      ],
      "metadata": {
        "id": "kqnDmCBZcuJz"
      },
      "execution_count": 27,
      "outputs": []
    },
    {
      "cell_type": "markdown",
      "source": [
        "********************************************************************************"
      ],
      "metadata": {
        "id": "8eSmaP25PQiv"
      }
    },
    {
      "cell_type": "markdown",
      "source": [
        "# 5.  File names"
      ],
      "metadata": {
        "id": "vBZVA7nFMywT"
      }
    },
    {
      "cell_type": "markdown",
      "source": [
        "### 5.1  Machine wiring configuration FSB boards"
      ],
      "metadata": {
        "id": "ql5eETMGNC3A"
      }
    },
    {
      "cell_type": "code",
      "source": [
        "# Machine wiring configuration FSB boards\n",
        "fn_absd_boards = \"/content/gdrive/MyDrive/Colab_Data/board_data/config/absd_config_adjusted.csv\"\n",
        "fn_cbsd_boards = \"/content/gdrive/MyDrive/Colab_Data/board_data/config/cbsd_config_adjusted.csv\"\n",
        "fn_rbsd_boards = \"/content/gdrive/MyDrive/Colab_Data/board_data/config/rbsd_config_adjusted.csv\"\n",
        "fn_cbss_boards = \"/content/gdrive/MyDrive/Colab_Data/board_data/config/cbss_config_adjusted.csv\""
      ],
      "metadata": {
        "id": "xTr8t4AgM5Za"
      },
      "execution_count": 6,
      "outputs": []
    },
    {
      "cell_type": "markdown",
      "source": [
        "### 5.2  CBSIM configuration\n",
        "\n",
        "*Only simulator 4*"
      ],
      "metadata": {
        "id": "IHdwxeSyTSKj"
      }
    },
    {
      "cell_type": "code",
      "source": [
        "fn_cbsim_signals = \"/content/gdrive/MyDrive/Colab_Data/simulator_4/cbsim_4_signals.csv\"\n",
        "fn_cbsim_io = \"/content/gdrive/MyDrive/Colab_Data/simulator_4/cbsim_4_io.csv\""
      ],
      "metadata": {
        "id": "c4U8uirwTgHS"
      },
      "execution_count": 23,
      "outputs": []
    },
    {
      "cell_type": "markdown",
      "source": [
        "### 5.3  FSB board connections"
      ],
      "metadata": {
        "id": "PWqDyb7vlucO"
      }
    },
    {
      "cell_type": "code",
      "source": [
        "fn_absd_data = '/content/gdrive/MyDrive/Colab_Data/board_data/absd_signals.csv'\n",
        "fn_cbmp_data = '/content/gdrive/MyDrive/Colab_Data/board_data/cbmp_signals.csv'\n",
        "fn_cbsd_data = '/content/gdrive/MyDrive/Colab_Data/board_data/cbsd_signals.csv'\n",
        "fn_rbsd_data = '/content/gdrive/MyDrive/Colab_Data/board_data/rbsd_signals.csv'\n",
        "fn_cbsim_data = '/content/gdrive/MyDrive/Colab_Data/board_data/cbsim_signals.csv'\n",
        "# !ls /content/gdrive/MyDrive/Colab_Data/board_data"
      ],
      "metadata": {
        "id": "LbQJms24l4NO"
      },
      "execution_count": 55,
      "outputs": []
    },
    {
      "cell_type": "code",
      "source": [
        "# To check with all signal data\n",
        "fn_all_signals = '/content/gdrive/MyDrive/Colab_Data/board_data/all_signals.csv'\n",
        "!ls /content/gdrive/MyDrive/Colab_Data/board_data"
      ],
      "metadata": {
        "id": "os7pPpG5u3pf"
      },
      "execution_count": null,
      "outputs": []
    },
    {
      "cell_type": "markdown",
      "source": [
        "********************************************************************************"
      ],
      "metadata": {
        "id": "ogoD6uvKPS0x"
      }
    },
    {
      "cell_type": "markdown",
      "source": [
        "# 6.  Data frames"
      ],
      "metadata": {
        "id": "kp_4Ww1ANQrQ"
      }
    },
    {
      "cell_type": "markdown",
      "source": [
        "### 6.1  Machine wiring configuration FSB boards"
      ],
      "metadata": {
        "id": "-lIdv1tCNhUE"
      }
    },
    {
      "cell_type": "code",
      "source": [
        "df_absd_boards = pd.read_csv(fn_absd_boards, sep=';')\n",
        "df_cbsd_boards = pd.read_csv(fn_cbsd_boards, sep=';')\n",
        "df_rbsd_boards = pd.read_csv(fn_rbsd_boards, sep=';')\n",
        "df_cbss_boards = pd.read_csv(fn_cbss_boards, sep=';')\n",
        "\n",
        "df_dict = {\n",
        "    \"absd\": df_absd_boards,\n",
        "    \"cbsd\": df_cbsd_boards,\n",
        "    \"cbss\": df_cbss_boards,\n",
        "    \"rbsd\": df_rbsd_boards\n",
        "}"
      ],
      "metadata": {
        "id": "xzo5_j_ENV0x"
      },
      "execution_count": 7,
      "outputs": []
    },
    {
      "cell_type": "markdown",
      "source": [
        "### 6.2  CBSIM configuration"
      ],
      "metadata": {
        "id": "0YaCYC10T98S"
      }
    },
    {
      "cell_type": "code",
      "source": [
        "df_cbsim_signals = pd.read_csv(fn_cbsim_signals, sep=';')\n",
        "df_cbsim_io = pd.read_csv(fn_cbsim_io, sep=';')"
      ],
      "metadata": {
        "id": "NcHpN_6IUC_F"
      },
      "execution_count": 24,
      "outputs": []
    },
    {
      "cell_type": "markdown",
      "source": [
        "### 6.3  FSB board connections"
      ],
      "metadata": {
        "id": "NtodqiHxm3DC"
      }
    },
    {
      "cell_type": "code",
      "source": [
        "df_absd_data = pd.read_csv(fn_absd_data, sep=';')\n",
        "df_cbmp_data = pd.read_csv(fn_cbmp_data, sep=';')\n",
        "df_cbsd_data = pd.read_csv(fn_cbsd_data, sep=';')\n",
        "df_rbsd_data = pd.read_csv(fn_rbsd_data, sep=';')\n",
        "df_cbsim_data = pd.read_csv(fn_cbsim_data, sep=';')"
      ],
      "metadata": {
        "id": "X-P6hr5Tm74S"
      },
      "execution_count": 56,
      "outputs": []
    },
    {
      "cell_type": "markdown",
      "source": [
        "********************************************************************************"
      ],
      "metadata": {
        "id": "AOJBe14mPUvZ"
      }
    },
    {
      "cell_type": "markdown",
      "source": [
        "# 7.  Settings"
      ],
      "metadata": {
        "id": "-UkVpJygN9HE"
      }
    },
    {
      "cell_type": "markdown",
      "source": [
        "### 7.1  View settings"
      ],
      "metadata": {
        "id": "WChwX42jOBar"
      }
    },
    {
      "cell_type": "code",
      "source": [
        "# DataTable.max_columns = 30\n",
        "%load_ext google.colab.data_table"
      ],
      "metadata": {
        "colab": {
          "base_uri": "https://localhost:8080/"
        },
        "id": "z96DU7RWOIqV",
        "outputId": "d7670e00-6676-4411-9af3-c905a6732b74"
      },
      "execution_count": 40,
      "outputs": [
        {
          "output_type": "stream",
          "name": "stdout",
          "text": [
            "The google.colab.data_table extension is already loaded. To reload it, use:\n",
            "  %reload_ext google.colab.data_table\n"
          ]
        }
      ]
    },
    {
      "cell_type": "markdown",
      "source": [
        "### 7.2  Other...?"
      ],
      "metadata": {
        "id": "nOy4DXoxOREo"
      }
    },
    {
      "cell_type": "code",
      "source": [
        "# ..."
      ],
      "metadata": {
        "id": "-T442O8rgm3P"
      },
      "execution_count": 32,
      "outputs": []
    },
    {
      "cell_type": "markdown",
      "source": [
        "********************************************************************************"
      ],
      "metadata": {
        "id": "ZxWf_yxuPW4A"
      }
    },
    {
      "cell_type": "markdown",
      "source": [
        "# 8.  View data frames"
      ],
      "metadata": {
        "id": "HO9_exAlOV9m"
      }
    },
    {
      "cell_type": "markdown",
      "source": [
        "### 8.1  ABSD wiring"
      ],
      "metadata": {
        "id": "sqHDAW-4ObmE"
      }
    },
    {
      "cell_type": "code",
      "source": [
        "display(df_absd_boards[1:])"
      ],
      "metadata": {
        "id": "iewVOM0UOq4G"
      },
      "execution_count": null,
      "outputs": []
    },
    {
      "cell_type": "markdown",
      "source": [
        "### 8.2  CBSD wiring"
      ],
      "metadata": {
        "id": "Mn1qfhA2Ozl9"
      }
    },
    {
      "cell_type": "code",
      "source": [
        "display(df_cbsd_boards[2:])"
      ],
      "metadata": {
        "id": "RU9hNtVHPhml"
      },
      "execution_count": null,
      "outputs": []
    },
    {
      "cell_type": "markdown",
      "source": [
        "### 8.3  CBSS wiring"
      ],
      "metadata": {
        "id": "EL_EHdyLO5LQ"
      }
    },
    {
      "cell_type": "code",
      "source": [
        "display(df_cbss_boards[1:])"
      ],
      "metadata": {
        "id": "Iufmc_T3PjRx"
      },
      "execution_count": null,
      "outputs": []
    },
    {
      "cell_type": "markdown",
      "source": [
        "### 8.4  RBSD wiring"
      ],
      "metadata": {
        "id": "3DKaGzv2O-TS"
      }
    },
    {
      "cell_type": "code",
      "source": [
        "display(df_rbsd_boards[1:])"
      ],
      "metadata": {
        "id": "PqUwLkw9Pmzh"
      },
      "execution_count": null,
      "outputs": []
    },
    {
      "cell_type": "markdown",
      "source": [
        "### 8.5  CBSIM signals\n",
        "\n",
        "Contains the CBSIM circuits and the connection points"
      ],
      "metadata": {
        "id": "u8vg_XlHPDy_"
      }
    },
    {
      "cell_type": "code",
      "source": [
        "display(df_cbsim_signals)"
      ],
      "metadata": {
        "id": "SVyiH60jUlIJ"
      },
      "execution_count": null,
      "outputs": []
    },
    {
      "cell_type": "markdown",
      "source": [
        "### 8.6  CBSIM IO\n",
        "\n",
        "Contains the CBSIM signals and SW control information"
      ],
      "metadata": {
        "id": "pEo0gb6MUS2s"
      }
    },
    {
      "cell_type": "code",
      "source": [
        "display(df_cbsim_io)"
      ],
      "metadata": {
        "id": "qLDqb6KyUv1L"
      },
      "execution_count": null,
      "outputs": []
    },
    {
      "cell_type": "markdown",
      "source": [
        "### 8.7  ABSD board connections"
      ],
      "metadata": {
        "id": "HTmEh3qcnpcS"
      }
    },
    {
      "cell_type": "code",
      "source": [
        "display(df_absd_data)"
      ],
      "metadata": {
        "id": "F-RuzTd7nuut"
      },
      "execution_count": null,
      "outputs": []
    },
    {
      "cell_type": "markdown",
      "source": [
        "### 8.8  CBMP board connections"
      ],
      "metadata": {
        "id": "92Hvy9Scn1vo"
      }
    },
    {
      "cell_type": "code",
      "source": [
        "display(df_cbmp_data)"
      ],
      "metadata": {
        "id": "sYqZvLHkn8eU"
      },
      "execution_count": null,
      "outputs": []
    },
    {
      "cell_type": "markdown",
      "source": [
        "### 8.9  CBSD board connections"
      ],
      "metadata": {
        "id": "d6Ir9Cw6n_jF"
      }
    },
    {
      "cell_type": "code",
      "source": [
        "display(df_cbsd_data)"
      ],
      "metadata": {
        "id": "OYz5SqEdoESM"
      },
      "execution_count": null,
      "outputs": []
    },
    {
      "cell_type": "markdown",
      "source": [
        "### 8.10  RBSD board connections"
      ],
      "metadata": {
        "id": "wTeiNbnuoHFF"
      }
    },
    {
      "cell_type": "code",
      "source": [
        "display(df_rbsd_data)"
      ],
      "metadata": {
        "id": "fco97HlToMA1"
      },
      "execution_count": null,
      "outputs": []
    },
    {
      "cell_type": "markdown",
      "source": [
        "### 8.11  CBSIM board connections"
      ],
      "metadata": {
        "id": "UzlHLKhOoOA8"
      }
    },
    {
      "cell_type": "code",
      "source": [
        "display(df_cbsim_data)"
      ],
      "metadata": {
        "id": "cYsn37gFoSkT"
      },
      "execution_count": null,
      "outputs": []
    },
    {
      "cell_type": "markdown",
      "source": [
        "********************************************************************************"
      ],
      "metadata": {
        "id": "vG8Og4hqPahb"
      }
    },
    {
      "cell_type": "markdown",
      "source": [
        "# 9.  Select data frame by board name\n",
        "\n",
        "\n",
        "*   ABSD\n",
        "*   CBSD\n",
        "*   CBSS\n",
        "*   RBSD\n",
        "\n",
        "\n",
        "\n"
      ],
      "metadata": {
        "id": "ud4a_ewhPbdn"
      }
    },
    {
      "cell_type": "code",
      "source": [
        "board_name = input(\"Enter a board name: \")\n",
        "if board_name.lower() in board_list:\n",
        "  print(Fore.BLUE + \"You've selected the data frame for \" + board_name.lower() + Fore.RESET)\n",
        "  df = df_dict.get(board_name.lower())\n",
        "else:\n",
        "  print(Fore.RED + \"No valid board\" + Fore.RESET)"
      ],
      "metadata": {
        "colab": {
          "base_uri": "https://localhost:8080/"
        },
        "id": "aj0JmrK2P1Py",
        "outputId": "97186d94-5b3a-4ce8-e0c6-8f75e2b94385"
      },
      "execution_count": 42,
      "outputs": [
        {
          "output_type": "stream",
          "name": "stdout",
          "text": [
            "Enter a board name: rbsd\n",
            "\u001b[34mYou've selected the data frame for rbsd\u001b[39m\n"
          ]
        }
      ]
    },
    {
      "cell_type": "markdown",
      "source": [
        "********************************************************************************"
      ],
      "metadata": {
        "id": "7QFyVjNdQP_F"
      }
    },
    {
      "cell_type": "markdown",
      "source": [
        "# 10.  Search data\n",
        "\n",
        "Search for a (sub)string in the selected data fram (by board name)"
      ],
      "metadata": {
        "id": "RnxRtFCeQRBz"
      }
    },
    {
      "cell_type": "code",
      "source": [
        "row_search = input(\"Enter a search item: \")\n",
        "search_result = df[df.apply(lambda row: row.astype(str).str.contains(row_search, case=False).any(), axis=1)]\n",
        "if search_result.empty: \n",
        "  print(Fore.RED + \"No matches found\" + Fore.RESET)\n",
        "else: \n",
        "  print(Fore.GREEN + \"Found something\" + Fore.RESET)\n",
        "display(search_result)"
      ],
      "metadata": {
        "id": "-MGM-_jLQp0S"
      },
      "execution_count": null,
      "outputs": []
    },
    {
      "cell_type": "markdown",
      "source": [
        "********************************************************************************"
      ],
      "metadata": {
        "id": "uyT4koCtqr-Y"
      }
    },
    {
      "cell_type": "markdown",
      "source": [
        "# 11.  Search CBSIM related data\n",
        "\n",
        "Search for a (sub)string in the CBSIM data frames"
      ],
      "metadata": {
        "id": "hL-UuGZ8cZIv"
      }
    },
    {
      "cell_type": "code",
      "source": [
        "row_search = input(\"Enter a search item: \")\n",
        "search_result_io = df_cbsim_io[df_cbsim_io.apply(lambda row: row.astype(str).str.contains(row_search, case=False).any(), axis=1)]\n",
        "search_result_signals = df_cbsim_signals[df_cbsim_signals.apply(lambda row: row.astype(str).str.contains(row_search, case=False).any(), axis=1)]\n",
        "if search_result_io.empty:\n",
        "  print(Fore.RED + \"No matches found in df_cbsim_io\" + Fore.RESET)\n",
        "else:\n",
        "  print(Fore.GREEN + \"Found something in df_cbsim_signals\" + Fore.RESET)\n",
        "if search_result_signals.empty:\n",
        "  print(Fore.RED + \"No matches found in df_cbsim_signals\" + Fore.RESET)\n",
        "else:\n",
        "  print(Fore.GREEN + \"Found something in df_cbsim_signals\" + Fore.RESET)\n",
        "print(Fore.BLUE + \"\\r\\ncbsim_io\" + Fore.RESET)\n",
        "display(search_result_io)\n",
        "print(Fore.BLUE + \"\\r\\ncbsim_signals\" + Fore.RESET)\n",
        "display(search_result_signals)"
      ],
      "metadata": {
        "id": "-zN4vQiacrt7"
      },
      "execution_count": null,
      "outputs": []
    },
    {
      "cell_type": "markdown",
      "source": [
        "********************************************************************************"
      ],
      "metadata": {
        "id": "GspdT4eiQ0Ot"
      }
    },
    {
      "cell_type": "markdown",
      "source": [
        "# You have done well"
      ],
      "metadata": {
        "id": "HrgAcOsoQ1oI"
      }
    },
    {
      "cell_type": "markdown",
      "source": [
        "********************************************************************************"
      ],
      "metadata": {
        "id": "ksa5PtceQ7P1"
      }
    }
  ]
}